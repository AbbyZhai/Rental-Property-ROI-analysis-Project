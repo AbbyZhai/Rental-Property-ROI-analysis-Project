{
 "cells": [
  {
   "cell_type": "markdown",
   "metadata": {
    "cell_id": "00007-7499b33f-87ba-4b8e-b291-84a58be30d18",
    "deepnote_cell_type": "code",
    "deepnote_to_be_reexecuted": false,
    "execution_millis": 0,
    "execution_start": 1632163642634,
    "source_hash": "b623e53d",
    "tags": []
   },
   "source": [
    "## Preparing Population Growth Rate Before and Since Pandemic Dataset\n",
    "#### By Xinqian Zhai, Cliff Gong, Gen Ho\n",
    "- 2018 population at county level. Data from: https://www.census.gov/data/datasets/time-series/demo/popest/2010s-counties-total.html \n",
    "- 2021 population at county level. Data from: https://worldpopulationreview.com/us-counties/states/ca "
   ]
  },
  {
   "cell_type": "code",
   "execution_count": 1,
   "metadata": {},
   "outputs": [],
   "source": [
    "# import useful libraries\n",
    "import pandas as pd \n",
    "import requests\n",
    "import warnings\n",
    "warnings.filterwarnings('ignore')"
   ]
  },
  {
   "cell_type": "code",
   "execution_count": 2,
   "metadata": {},
   "outputs": [],
   "source": [
    "# get 2018 population at county level for the three states\n",
    "def get_population18_data():\n",
    "    state_prefix = [('CA',' California'), \n",
    "                    ('TX',' Texas'), \n",
    "                    ('NY',' New York')]\n",
    "    df_list = []\n",
    "    for item in state_prefix:\n",
    "        df =  pd.read_csv('./demographic_data/population'+item[0]+'18.csv', header = 3, \n",
    "                            usecols = ['Unnamed: 0','2018'], skipfooter = 5)\n",
    "        df = df.iloc[1:, : ]\n",
    "        df.columns = ['county','2018']\n",
    "        df['county'] = df['county'].str[1:].replace(item[1], item[0], regex = True)\n",
    "        df_list.append(df) \n",
    "    df = pd.concat(df_list).reset_index(drop=True)\n",
    "    df['2018'] = df['2018'].str.split(',').str.join('').astype(int)\n",
    "\n",
    "    return df"
   ]
  },
  {
   "cell_type": "code",
   "execution_count": 3,
   "metadata": {},
   "outputs": [],
   "source": [
    "# web scrap 2021 population data at county level for three states\n",
    "def get_population21_table(tax_state):\n",
    "    state_prefix = {'CA':'ca',\n",
    "                    'NY':'ny',\n",
    "                    'TX':'tx'}\n",
    "    url_link = 'https://worldpopulationreview.com/us-counties/states/{}'.format(state_prefix[tax_state])\n",
    "\n",
    "    r = requests.get(url_link)\n",
    "    html_to_dataframe = pd.read_html(r.text)[0]\n",
    "\n",
    "    # only get the 2021 population\n",
    "    df = html_to_dataframe.iloc[:, [0,1]]\n",
    "    df.columns = ['county', '2021']\n",
    "    df['county'] = df['county'] + ',' + tax_state\n",
    "    df = df.sort_values('county', ascending=True).reset_index(drop=True)\n",
    "\n",
    "    return df\n",
    "\n",
    "# get population for the states\n",
    "pop21_ca = get_population21_table('CA')\n",
    "pop21_ny = get_population21_table('NY')\n",
    "pop21_tx = get_population21_table('TX')\n",
    "\n",
    "# combine all to form one dtaframe\n",
    "pop21_all = pop21_ca.append(pop21_ny, ignore_index=True).append(pop21_tx, ignore_index=True)"
   ]
  },
  {
   "cell_type": "code",
   "execution_count": 4,
   "metadata": {},
   "outputs": [],
   "source": [
    "# combine population 2018 and 2021 to calculate population growth rate\n",
    "def get_pop_growth_rate():\n",
    "    pop18_all = get_population18_data()\n",
    "\n",
    "    population = pop18_all.merge(pop21_all, on = 'county')\n",
    "    population['growth_rate'] = round((population['2021'] - population['2018'])/population['2018'], 3)\n",
    "    \n",
    "    # align populations of counties with the counties in the rentals, which only keep 49 counties\n",
    "    returns = pd.read_csv(\"./output/returns.csv\", index_col=0)\n",
    "    counties_to_keep = returns.columns.values\n",
    "    population = population[population['county'].isin(counties_to_keep)]\n",
    "\n",
    "    return population\n",
    "\n",
    "pop_growth_rate = get_pop_growth_rate()"
   ]
  },
  {
   "cell_type": "code",
   "execution_count": 5,
   "metadata": {},
   "outputs": [],
   "source": [
    "# write population growth rate to demographic_data folder\n",
    "pop_growth_rate.to_csv('./demographic_data/pop_growth_rate.csv', index = False)"
   ]
  },
  {
   "cell_type": "code",
   "execution_count": 6,
   "metadata": {},
   "outputs": [
    {
     "data": {
      "text/html": [
       "<div>\n",
       "<style scoped>\n",
       "    .dataframe tbody tr th:only-of-type {\n",
       "        vertical-align: middle;\n",
       "    }\n",
       "\n",
       "    .dataframe tbody tr th {\n",
       "        vertical-align: top;\n",
       "    }\n",
       "\n",
       "    .dataframe thead th {\n",
       "        text-align: right;\n",
       "    }\n",
       "</style>\n",
       "<table border=\"1\" class=\"dataframe\">\n",
       "  <thead>\n",
       "    <tr style=\"text-align: right;\">\n",
       "      <th></th>\n",
       "      <th>county</th>\n",
       "      <th>2018</th>\n",
       "      <th>2021</th>\n",
       "      <th>growth_rate</th>\n",
       "    </tr>\n",
       "  </thead>\n",
       "  <tbody>\n",
       "    <tr>\n",
       "      <th>0</th>\n",
       "      <td>Alameda County,CA</td>\n",
       "      <td>1666756</td>\n",
       "      <td>1680480</td>\n",
       "      <td>0.008</td>\n",
       "    </tr>\n",
       "    <tr>\n",
       "      <th>1</th>\n",
       "      <td>Contra Costa County,CA</td>\n",
       "      <td>1150519</td>\n",
       "      <td>1159540</td>\n",
       "      <td>0.008</td>\n",
       "    </tr>\n",
       "    <tr>\n",
       "      <th>2</th>\n",
       "      <td>Kern County,CA</td>\n",
       "      <td>893758</td>\n",
       "      <td>913090</td>\n",
       "      <td>0.022</td>\n",
       "    </tr>\n",
       "    <tr>\n",
       "      <th>3</th>\n",
       "      <td>Los Angeles County,CA</td>\n",
       "      <td>10073906</td>\n",
       "      <td>9969510</td>\n",
       "      <td>-0.010</td>\n",
       "    </tr>\n",
       "    <tr>\n",
       "      <th>4</th>\n",
       "      <td>Marin County,CA</td>\n",
       "      <td>259662</td>\n",
       "      <td>257154</td>\n",
       "      <td>-0.010</td>\n",
       "    </tr>\n",
       "  </tbody>\n",
       "</table>\n",
       "</div>"
      ],
      "text/plain": [
       "                   county      2018     2021  growth_rate\n",
       "0       Alameda County,CA   1666756  1680480        0.008\n",
       "1  Contra Costa County,CA   1150519  1159540        0.008\n",
       "2          Kern County,CA    893758   913090        0.022\n",
       "3   Los Angeles County,CA  10073906  9969510       -0.010\n",
       "4         Marin County,CA    259662   257154       -0.010"
      ]
     },
     "execution_count": 6,
     "metadata": {},
     "output_type": "execute_result"
    }
   ],
   "source": [
    "df = pd.read_csv('./demographic_data/pop_growth_rate.csv')\n",
    "df.head()\n"
   ]
  },
  {
   "cell_type": "markdown",
   "metadata": {
    "created_in_deepnote_cell": true,
    "deepnote_cell_type": "markdown",
    "tags": []
   },
   "source": [
    "<a style='text-decoration:none;line-height:16px;display:flex;color:#5B5B62;padding:10px;justify-content:end;' href='https://deepnote.com?utm_source=created-in-deepnote-cell&projectId=718fdf0e-933b-4ec5-90a8-5b2fe887b720' target=\"_blank\">\n",
    "<img alt='Created in deepnote.com' style='display:inline;max-height:16px;margin:0px;margin-right:7.5px;' src='data:image/svg+xml;base64,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' > </img>\n",
    "Created in <span style='font-weight:600;margin-left:4px;'>Deepnote</span></a>"
   ]
  },
  {
   "cell_type": "code",
   "execution_count": null,
   "metadata": {},
   "outputs": [],
   "source": []
  }
 ],
 "metadata": {
  "deepnote": {
   "is_reactive": false
  },
  "deepnote_execution_queue": [],
  "deepnote_notebook_id": "876adce0-9e14-45f4-a589-9fdd9b812f50",
  "kernelspec": {
   "display_name": "Python 3",
   "language": "python",
   "name": "python3"
  },
  "language_info": {
   "codemirror_mode": {
    "name": "ipython",
    "version": 3
   },
   "file_extension": ".py",
   "mimetype": "text/x-python",
   "name": "python",
   "nbconvert_exporter": "python",
   "pygments_lexer": "ipython3",
   "version": "3.8.3"
  }
 },
 "nbformat": 4,
 "nbformat_minor": 2
}
