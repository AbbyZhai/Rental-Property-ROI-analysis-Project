{
 "cells": [
  {
   "cell_type": "markdown",
   "metadata": {
    "cell_id": "00000-8b67a49e-54e5-426c-bc2e-9dbb375ebb96",
    "deepnote_cell_type": "markdown",
    "tags": []
   },
   "source": []
  },
  {
   "cell_type": "markdown",
   "metadata": {
    "cell_id": "00003-e6351e09-ca97-4deb-bff8-a34957a05495",
    "deepnote_cell_type": "markdown",
    "tags": []
   },
   "source": [
    "## Make demographic dataframes for top3, bottom3 and nominated counties\n",
    "\n",
    "#### By Xinqian Zhai, Cliff Gong, Gen Ho "
   ]
  },
  {
   "cell_type": "code",
   "execution_count": 1,
   "metadata": {
    "cell_id": "00002-6fd6af40-aedc-410f-82aa-e693334cc740",
    "deepnote_cell_type": "code",
    "deepnote_to_be_reexecuted": false,
    "execution_millis": 998,
    "execution_start": 1632163663149,
    "source_hash": "76c4cfdb",
    "tags": []
   },
   "outputs": [],
   "source": [
    "# import libararies\n",
    "import numpy as np \n",
    "import pandas as pd \n",
    "import seaborn as sns\n",
    "import matplotlib.pyplot as plt\n",
    "import altair as alt"
   ]
  },
  {
   "cell_type": "markdown",
   "metadata": {
    "cell_id": "00003-bfc35cc0-b08b-4839-8de7-5a3a5e93d510",
    "deepnote_cell_type": "markdown",
    "tags": []
   },
   "source": [
    "### Define the nominated, the top3, and the bottom3 (lower-ranked) counties\n",
    "- The nominated counties are the counties with the highest ROI (ROI >7%) over all counties of three nominated states, CA, NY, and TX. \n",
    "- The top3 are the three counties with the highest ROI in each nominated state. \n",
    "- The bottom3 are the three counties with the lowest ROI in each nominated state."
   ]
  },
  {
   "cell_type": "markdown",
   "metadata": {},
   "source": [
    "### Finding the nominated, the top3, and the bottom3 counties "
   ]
  },
  {
   "cell_type": "markdown",
   "metadata": {
    "cell_id": "00004-a3a44f43-9c1c-4cef-95dc-cbd926a8bd45",
    "deepnote_cell_type": "text-cell-p",
    "is_collapsed": false,
    "tags": []
   },
   "source": [
    "Now we show how we create the above variables in code."
   ]
  },
  {
   "cell_type": "code",
   "execution_count": 2,
   "metadata": {
    "cell_id": "00004-adc2aaa2-9c28-4d4b-9adc-edaf3ffa126b",
    "deepnote_cell_type": "code",
    "deepnote_to_be_reexecuted": false,
    "execution_millis": 15,
    "execution_start": 1632163664156,
    "source_hash": "5d3f11de",
    "tags": []
   },
   "outputs": [],
   "source": [
    "df_merge = pd.read_csv('./output/merge.csv')"
   ]
  },
  {
   "cell_type": "code",
   "execution_count": 3,
   "metadata": {
    "cell_id": "00005-08bddc00-067b-44d3-8980-791e6cce3b2d",
    "deepnote_cell_type": "code",
    "deepnote_to_be_reexecuted": false,
    "execution_millis": 46,
    "execution_start": 1632163664175,
    "source_hash": "9664d8be",
    "tags": []
   },
   "outputs": [
    {
     "data": {
      "text/html": [
       "<div>\n",
       "<style scoped>\n",
       "    .dataframe tbody tr th:only-of-type {\n",
       "        vertical-align: middle;\n",
       "    }\n",
       "\n",
       "    .dataframe tbody tr th {\n",
       "        vertical-align: top;\n",
       "    }\n",
       "\n",
       "    .dataframe thead th {\n",
       "        text-align: right;\n",
       "    }\n",
       "</style>\n",
       "<table border=\"1\" class=\"dataframe\">\n",
       "  <thead>\n",
       "    <tr style=\"text-align: right;\">\n",
       "      <th></th>\n",
       "      <th>date</th>\n",
       "      <th>county</th>\n",
       "      <th>selling_price</th>\n",
       "      <th>state</th>\n",
       "      <th>rent</th>\n",
       "      <th>roi</th>\n",
       "      <th>rate</th>\n",
       "    </tr>\n",
       "  </thead>\n",
       "  <tbody>\n",
       "    <tr>\n",
       "      <th>0</th>\n",
       "      <td>2018-01-01</td>\n",
       "      <td>Alameda County</td>\n",
       "      <td>840482.0</td>\n",
       "      <td>CA</td>\n",
       "      <td>2541.0</td>\n",
       "      <td>-1.53</td>\n",
       "      <td>0.0395</td>\n",
       "    </tr>\n",
       "    <tr>\n",
       "      <th>1</th>\n",
       "      <td>2018-02-01</td>\n",
       "      <td>Alameda County</td>\n",
       "      <td>853351.0</td>\n",
       "      <td>CA</td>\n",
       "      <td>2545.0</td>\n",
       "      <td>-2.32</td>\n",
       "      <td>0.0422</td>\n",
       "    </tr>\n",
       "    <tr>\n",
       "      <th>2</th>\n",
       "      <td>2018-03-01</td>\n",
       "      <td>Alameda County</td>\n",
       "      <td>862162.0</td>\n",
       "      <td>CA</td>\n",
       "      <td>2550.0</td>\n",
       "      <td>-2.91</td>\n",
       "      <td>0.0443</td>\n",
       "    </tr>\n",
       "    <tr>\n",
       "      <th>3</th>\n",
       "      <td>2018-04-01</td>\n",
       "      <td>Alameda County</td>\n",
       "      <td>868163.0</td>\n",
       "      <td>CA</td>\n",
       "      <td>2555.0</td>\n",
       "      <td>-2.89</td>\n",
       "      <td>0.0440</td>\n",
       "    </tr>\n",
       "    <tr>\n",
       "      <th>4</th>\n",
       "      <td>2018-05-01</td>\n",
       "      <td>Alameda County</td>\n",
       "      <td>877878.0</td>\n",
       "      <td>CA</td>\n",
       "      <td>2560.0</td>\n",
       "      <td>-3.35</td>\n",
       "      <td>0.0455</td>\n",
       "    </tr>\n",
       "  </tbody>\n",
       "</table>\n",
       "</div>"
      ],
      "text/plain": [
       "         date          county  selling_price state    rent   roi    rate\n",
       "0  2018-01-01  Alameda County       840482.0    CA  2541.0 -1.53  0.0395\n",
       "1  2018-02-01  Alameda County       853351.0    CA  2545.0 -2.32  0.0422\n",
       "2  2018-03-01  Alameda County       862162.0    CA  2550.0 -2.91  0.0443\n",
       "3  2018-04-01  Alameda County       868163.0    CA  2555.0 -2.89  0.0440\n",
       "4  2018-05-01  Alameda County       877878.0    CA  2560.0 -3.35  0.0455"
      ]
     },
     "execution_count": 3,
     "metadata": {},
     "output_type": "execute_result"
    }
   ],
   "source": [
    "df_merge.head()"
   ]
  },
  {
   "cell_type": "code",
   "execution_count": 4,
   "metadata": {
    "cell_id": "00005-be20bc0c-0408-46b6-9e93-47bb25663b53",
    "deepnote_cell_type": "code",
    "deepnote_to_be_reexecuted": false,
    "execution_millis": 54,
    "execution_start": 1632163664219,
    "source_hash": "1ba27357",
    "tags": []
   },
   "outputs": [
    {
     "data": {
      "text/html": [
       "<div>\n",
       "<style scoped>\n",
       "    .dataframe tbody tr th:only-of-type {\n",
       "        vertical-align: middle;\n",
       "    }\n",
       "\n",
       "    .dataframe tbody tr th {\n",
       "        vertical-align: top;\n",
       "    }\n",
       "\n",
       "    .dataframe thead th {\n",
       "        text-align: right;\n",
       "    }\n",
       "</style>\n",
       "<table border=\"1\" class=\"dataframe\">\n",
       "  <thead>\n",
       "    <tr style=\"text-align: right;\">\n",
       "      <th></th>\n",
       "      <th></th>\n",
       "      <th>selling_price</th>\n",
       "      <th>rent</th>\n",
       "      <th>roi</th>\n",
       "      <th>rate</th>\n",
       "    </tr>\n",
       "    <tr>\n",
       "      <th>state</th>\n",
       "      <th>county</th>\n",
       "      <th></th>\n",
       "      <th></th>\n",
       "      <th></th>\n",
       "      <th></th>\n",
       "    </tr>\n",
       "  </thead>\n",
       "  <tbody>\n",
       "    <tr>\n",
       "      <th rowspan=\"4\" valign=\"top\">TX</th>\n",
       "      <th>El Paso County</th>\n",
       "      <td>136391.0</td>\n",
       "      <td>1101.0</td>\n",
       "      <td>10.030</td>\n",
       "      <td>0.037</td>\n",
       "    </tr>\n",
       "    <tr>\n",
       "      <th>Kaufman County</th>\n",
       "      <td>229317.5</td>\n",
       "      <td>1652.0</td>\n",
       "      <td>9.145</td>\n",
       "      <td>0.037</td>\n",
       "    </tr>\n",
       "    <tr>\n",
       "      <th>Johnson County</th>\n",
       "      <td>225958.5</td>\n",
       "      <td>1545.0</td>\n",
       "      <td>8.910</td>\n",
       "      <td>0.037</td>\n",
       "    </tr>\n",
       "    <tr>\n",
       "      <th>Harris County</th>\n",
       "      <td>201007.5</td>\n",
       "      <td>1417.5</td>\n",
       "      <td>7.980</td>\n",
       "      <td>0.037</td>\n",
       "    </tr>\n",
       "    <tr>\n",
       "      <th>NY</th>\n",
       "      <th>Bronx County</th>\n",
       "      <td>311455.5</td>\n",
       "      <td>1814.5</td>\n",
       "      <td>7.965</td>\n",
       "      <td>0.037</td>\n",
       "    </tr>\n",
       "    <tr>\n",
       "      <th>TX</th>\n",
       "      <th>Dallas County</th>\n",
       "      <td>221054.0</td>\n",
       "      <td>1446.0</td>\n",
       "      <td>6.920</td>\n",
       "      <td>0.037</td>\n",
       "    </tr>\n",
       "    <tr>\n",
       "      <th>CA</th>\n",
       "      <th>San Bernardino County</th>\n",
       "      <td>355096.5</td>\n",
       "      <td>1905.0</td>\n",
       "      <td>6.710</td>\n",
       "      <td>0.037</td>\n",
       "    </tr>\n",
       "    <tr>\n",
       "      <th rowspan=\"3\" valign=\"top\">TX</th>\n",
       "      <th>Tarrant County</th>\n",
       "      <td>223225.5</td>\n",
       "      <td>1462.0</td>\n",
       "      <td>6.365</td>\n",
       "      <td>0.037</td>\n",
       "    </tr>\n",
       "    <tr>\n",
       "      <th>Guadalupe County</th>\n",
       "      <td>238859.0</td>\n",
       "      <td>1463.0</td>\n",
       "      <td>6.365</td>\n",
       "      <td>0.037</td>\n",
       "    </tr>\n",
       "    <tr>\n",
       "      <th>Bexar County</th>\n",
       "      <td>194048.0</td>\n",
       "      <td>1200.0</td>\n",
       "      <td>5.575</td>\n",
       "      <td>0.037</td>\n",
       "    </tr>\n",
       "  </tbody>\n",
       "</table>\n",
       "</div>"
      ],
      "text/plain": [
       "                             selling_price    rent     roi   rate\n",
       "state county                                                     \n",
       "TX    El Paso County              136391.0  1101.0  10.030  0.037\n",
       "      Kaufman County              229317.5  1652.0   9.145  0.037\n",
       "      Johnson County              225958.5  1545.0   8.910  0.037\n",
       "      Harris County               201007.5  1417.5   7.980  0.037\n",
       "NY    Bronx County                311455.5  1814.5   7.965  0.037\n",
       "TX    Dallas County               221054.0  1446.0   6.920  0.037\n",
       "CA    San Bernardino County       355096.5  1905.0   6.710  0.037\n",
       "TX    Tarrant County              223225.5  1462.0   6.365  0.037\n",
       "      Guadalupe County            238859.0  1463.0   6.365  0.037\n",
       "      Bexar County                194048.0  1200.0   5.575  0.037"
      ]
     },
     "execution_count": 4,
     "metadata": {},
     "output_type": "execute_result"
    }
   ],
   "source": [
    "# take a look at the top 10 counties with the highest ROI\n",
    "df_merge.groupby(['state','county']).median().round(3).sort_values(by=['roi'],ascending=False)[:10]"
   ]
  },
  {
   "cell_type": "markdown",
   "metadata": {
    "cell_id": "00007-6740bcc8-92a1-4d5c-b5a8-ac80f5dc0456",
    "deepnote_cell_type": "text-cell-p",
    "is_collapsed": false,
    "tags": []
   },
   "source": [
    "Ok df_merge, one of our master tables that have been cleaned, loaded correctly. Now let's create those variables."
   ]
  },
  {
   "cell_type": "code",
   "execution_count": 5,
   "metadata": {
    "cell_id": "00006-ad671d4f-3af7-4ccd-83af-eef04708ed8f",
    "deepnote_cell_type": "code",
    "deepnote_to_be_reexecuted": false,
    "execution_millis": 33,
    "execution_start": 1632163664275,
    "source_hash": "249f06d2",
    "tags": []
   },
   "outputs": [
    {
     "data": {
      "text/html": [
       "<div>\n",
       "<style scoped>\n",
       "    .dataframe tbody tr th:only-of-type {\n",
       "        vertical-align: middle;\n",
       "    }\n",
       "\n",
       "    .dataframe tbody tr th {\n",
       "        vertical-align: top;\n",
       "    }\n",
       "\n",
       "    .dataframe thead th {\n",
       "        text-align: right;\n",
       "    }\n",
       "</style>\n",
       "<table border=\"1\" class=\"dataframe\">\n",
       "  <thead>\n",
       "    <tr style=\"text-align: right;\">\n",
       "      <th></th>\n",
       "      <th>selling_price</th>\n",
       "      <th>rent</th>\n",
       "      <th>roi</th>\n",
       "      <th>rate</th>\n",
       "    </tr>\n",
       "    <tr>\n",
       "      <th>county</th>\n",
       "      <th></th>\n",
       "      <th></th>\n",
       "      <th></th>\n",
       "      <th></th>\n",
       "    </tr>\n",
       "  </thead>\n",
       "  <tbody>\n",
       "    <tr>\n",
       "      <th>San Bernardino County</th>\n",
       "      <td>355096.5</td>\n",
       "      <td>1905.0</td>\n",
       "      <td>6.710</td>\n",
       "      <td>0.037</td>\n",
       "    </tr>\n",
       "    <tr>\n",
       "      <th>Riverside County</th>\n",
       "      <td>395686.5</td>\n",
       "      <td>1989.0</td>\n",
       "      <td>5.260</td>\n",
       "      <td>0.037</td>\n",
       "    </tr>\n",
       "    <tr>\n",
       "      <th>San Joaquin County</th>\n",
       "      <td>373617.5</td>\n",
       "      <td>1796.5</td>\n",
       "      <td>4.835</td>\n",
       "      <td>0.037</td>\n",
       "    </tr>\n",
       "    <tr>\n",
       "      <th>Sacramento County</th>\n",
       "      <td>376732.5</td>\n",
       "      <td>1706.5</td>\n",
       "      <td>3.915</td>\n",
       "      <td>0.037</td>\n",
       "    </tr>\n",
       "    <tr>\n",
       "      <th>Ventura County</th>\n",
       "      <td>614265.0</td>\n",
       "      <td>2669.0</td>\n",
       "      <td>3.750</td>\n",
       "      <td>0.037</td>\n",
       "    </tr>\n",
       "  </tbody>\n",
       "</table>\n",
       "</div>"
      ],
      "text/plain": [
       "                       selling_price    rent    roi   rate\n",
       "county                                                    \n",
       "San Bernardino County       355096.5  1905.0  6.710  0.037\n",
       "Riverside County            395686.5  1989.0  5.260  0.037\n",
       "San Joaquin County          373617.5  1796.5  4.835  0.037\n",
       "Sacramento County           376732.5  1706.5  3.915  0.037\n",
       "Ventura County              614265.0  2669.0  3.750  0.037"
      ]
     },
     "execution_count": 5,
     "metadata": {},
     "output_type": "execute_result"
    }
   ],
   "source": [
    "def get_median_county_data_by_state(state):\n",
    "    group = df_merge[df_merge['state']==state].groupby('county')\n",
    "    return group.median().round(3).sort_values(by=['roi'],ascending=False)\n",
    "\n",
    "# Example, show top 5 ROI for CA\n",
    "get_median_county_data_by_state('CA')[:5]"
   ]
  },
  {
   "cell_type": "code",
   "execution_count": 6,
   "metadata": {
    "cell_id": "00008-e311c600-cd74-4254-ac3b-ce967aa8934f",
    "deepnote_cell_type": "code",
    "deepnote_to_be_reexecuted": false,
    "execution_millis": 3,
    "execution_start": 1632163664342,
    "source_hash": "60bb2425",
    "tags": []
   },
   "outputs": [],
   "source": [
    "def get_counties_of_interest(n_items):\n",
    "    nominated_states = ['CA','NY','TX']\n",
    "    counties = list()\n",
    "    for state in nominated_states:\n",
    "        if n_items >= 0:\n",
    "            tmp_counties = list(get_median_county_data_by_state(state)[:n_items].index.values)\n",
    "        else:\n",
    "            tmp_counties = list(get_median_county_data_by_state(state)[n_items:].index.values)\n",
    "        counties += [s + ',{}'.format(state) for s in tmp_counties]\n",
    "    \n",
    "    return counties"
   ]
  },
  {
   "cell_type": "code",
   "execution_count": 7,
   "metadata": {
    "cell_id": "00009-70b9f616-5a1a-41b1-8ba8-b65281fefb47",
    "deepnote_cell_type": "code",
    "deepnote_to_be_reexecuted": false,
    "execution_millis": 18,
    "execution_start": 1632163664348,
    "source_hash": "b4235692",
    "tags": []
   },
   "outputs": [
    {
     "data": {
      "text/plain": [
       "['San Bernardino County,CA',\n",
       " 'Riverside County,CA',\n",
       " 'San Joaquin County,CA',\n",
       " 'Bronx County,NY',\n",
       " 'Orange County,NY',\n",
       " 'Monroe County,NY',\n",
       " 'El Paso County,TX',\n",
       " 'Kaufman County,TX',\n",
       " 'Johnson County,TX']"
      ]
     },
     "execution_count": 7,
     "metadata": {},
     "output_type": "execute_result"
    }
   ],
   "source": [
    "# top 3 in each nominated state\n",
    "top3_counties = get_counties_of_interest(3)\n",
    "top3_counties"
   ]
  },
  {
   "cell_type": "code",
   "execution_count": 8,
   "metadata": {
    "cell_id": "00010-f4fcad87-3a28-4685-8602-dd7971f9c31d",
    "deepnote_cell_type": "code",
    "deepnote_to_be_reexecuted": false,
    "execution_millis": 23,
    "execution_start": 1632163664371,
    "source_hash": "599dba46",
    "tags": []
   },
   "outputs": [
    {
     "data": {
      "text/plain": [
       "['San Francisco County,CA',\n",
       " 'Santa Clara County,CA',\n",
       " 'San Mateo County,CA',\n",
       " 'Westchester County,NY',\n",
       " 'New York County,NY',\n",
       " 'Dutchess County,NY',\n",
       " 'Hays County,TX',\n",
       " 'Collin County,TX',\n",
       " 'Travis County,TX']"
      ]
     },
     "execution_count": 8,
     "metadata": {},
     "output_type": "execute_result"
    }
   ],
   "source": [
    "# Bottom 3 in each nominated state\n",
    "bottom3_counties = get_counties_of_interest(-3)\n",
    "bottom3_counties"
   ]
  },
  {
   "cell_type": "code",
   "execution_count": 9,
   "metadata": {
    "cell_id": "00012-72e4d777-e453-4bcb-b9c4-dac53b9515c9",
    "deepnote_cell_type": "code",
    "deepnote_to_be_reexecuted": false,
    "execution_millis": 1,
    "execution_start": 1632163664430,
    "source_hash": "5ad8ed67",
    "tags": []
   },
   "outputs": [],
   "source": [
    "def get_nominated_counties(threshold):\n",
    "    nom_df = df_merge.groupby(['state','county']).median().round(3).sort_values(by=['roi'],ascending=False)\n",
    "    nom_df = nom_df[nom_df['roi'] >= threshold]\n",
    "    nom_counties = list()\n",
    "    for item in nom_df.index:\n",
    "        s = item[1] + ',' + item[0]\n",
    "        nom_counties.append(s)\n",
    "    \n",
    "    return nom_counties"
   ]
  },
  {
   "cell_type": "code",
   "execution_count": 10,
   "metadata": {
    "cell_id": "00013-0260318d-8def-4c49-9e94-9380e6d41c03",
    "deepnote_cell_type": "code",
    "deepnote_to_be_reexecuted": false,
    "execution_millis": 10,
    "execution_start": 1632163664432,
    "source_hash": "1326f2ef",
    "tags": []
   },
   "outputs": [
    {
     "data": {
      "text/plain": [
       "['El Paso County,TX',\n",
       " 'Kaufman County,TX',\n",
       " 'Johnson County,TX',\n",
       " 'Harris County,TX',\n",
       " 'Bronx County,NY']"
      ]
     },
     "execution_count": 10,
     "metadata": {},
     "output_type": "execute_result"
    }
   ],
   "source": [
    "# nominated counties that have ROI > 7(%)\n",
    "nominated_counties = get_nominated_counties(7.0)\n",
    "nominated_counties"
   ]
  },
  {
   "cell_type": "markdown",
   "metadata": {
    "cell_id": "00002-5cb7fe37-d803-46e1-b1d7-46adb6d37dc9",
    "deepnote_cell_type": "markdown",
    "tags": []
   },
   "source": [
    "#### Findings about nominated counties (ROI > 7%):\n",
    "\n",
    "As we can see, 4 out of 5 nominated counties with the highest ROI are all from Texas,  and the other county is from New York state. However, in California, the most populous state, no county has reached the 7% ROI threshold.\n",
    "So based on the data, **Texas turns out to be a good place for rental property investors who aim for steady and high cash flow.**"
   ]
  },
  {
   "cell_type": "markdown",
   "metadata": {
    "cell_id": "00019-b1fb64ca-e791-4146-80ce-fe6cc628d246",
    "deepnote_cell_type": "markdown",
    "tags": []
   },
   "source": [
    "### Make demographic dataframes for the nominated, the top3, and the bottom3 counties"
   ]
  },
  {
   "cell_type": "code",
   "execution_count": 11,
   "metadata": {
    "cell_id": "00006-53890a35-e34e-455c-b32c-167ff85ad385",
    "deepnote_cell_type": "code",
    "deepnote_to_be_reexecuted": false,
    "execution_millis": 1,
    "execution_start": 1632163664432,
    "source_hash": "241fe609",
    "tags": []
   },
   "outputs": [],
   "source": [
    "# load demographic data from demographic_data\n",
    "bottom3_dem_df = pd.read_csv(\"./demographic_data/bottom3_demographic.csv\", index_col=0)\n",
    "nominated_dem_df = pd.read_csv(\"./demographic_data/nominated_demographic.csv\", index_col=0)\n",
    "top3_dem_df = pd.read_csv(\"./demographic_data/top3_demographic.csv\", index_col=0)"
   ]
  },
  {
   "cell_type": "code",
   "execution_count": 12,
   "metadata": {
    "cell_id": "00006-7234f8e1-d576-4b0a-b2e4-9b4b2fde1d35",
    "deepnote_cell_type": "code",
    "deepnote_to_be_reexecuted": false,
    "execution_millis": 0,
    "execution_start": 1632163664474,
    "source_hash": "63caf41d",
    "tags": []
   },
   "outputs": [],
   "source": [
    "# get needed demographic facotrs\n",
    "def get_dem(df):\n",
    "    dem_df = df.copy()\n",
    "    # transpose the rows and columns\n",
    "    dem_df = dem_df.T.reset_index()\n",
    "    dem_df = dem_df.drop(columns = ['Occupied Housing Units','Total Housing Units','Total Population','Average Household Income', 'Total Households'])\n",
    "    dem_df.rename(columns = {'index': 'county', 'Population Density (per Sq. Mi.)': 'Population Density'}, inplace=True)\n",
    "    # change the column name to align with population data\n",
    "    dem_df['county'] = dem_df['county'].str.split(',').str.join(' County,')\n",
    "\n",
    "    return dem_df\n",
    "\n",
    "bottom3_dem = get_dem(bottom3_dem_df)\n",
    "nominated_dem = get_dem(nominated_dem_df)\n",
    "\n",
    "# add population growth rate data to demographic data\n",
    "\n",
    "# load population data from additional_output\n",
    "pop_growth_rate = pd.read_csv(\"./demographic_data/pop_growth_rate.csv\")\n",
    "pop_growth_rate = pop_growth_rate.rename({'growth_rate': 'Population Growth'}, axis=1)\n",
    "# keep only the bottom3 and nominated counties\n",
    "bottom3_pop_growth_rate = pop_growth_rate[pop_growth_rate['county'].isin(bottom3_counties)].iloc[:, [0,-1]]\n",
    "nominated_pop_growth_rate = pop_growth_rate[pop_growth_rate['county'].isin(nominated_counties)].iloc[:, [0,-1]]\n",
    "# merge bottom3, nominated with population growth rate together\n",
    "bottom3_dem = bottom3_dem.merge(bottom3_pop_growth_rate, on='county')\n",
    "nominated_dem = nominated_dem.merge(nominated_pop_growth_rate, on='county')\n"
   ]
  },
  {
   "cell_type": "code",
   "execution_count": 13,
   "metadata": {
    "cell_id": "00009-515456c8-5a44-409f-be13-43015c1cf348",
    "deepnote_cell_type": "code",
    "deepnote_to_be_reexecuted": false,
    "execution_millis": 25,
    "execution_start": 1632163664475,
    "source_hash": "aea2ea0e",
    "tags": []
   },
   "outputs": [
    {
     "data": {
      "text/html": [
       "<div>\n",
       "<style scoped>\n",
       "    .dataframe tbody tr th:only-of-type {\n",
       "        vertical-align: middle;\n",
       "    }\n",
       "\n",
       "    .dataframe tbody tr th {\n",
       "        vertical-align: top;\n",
       "    }\n",
       "\n",
       "    .dataframe thead th {\n",
       "        text-align: right;\n",
       "    }\n",
       "</style>\n",
       "<table border=\"1\" class=\"dataframe\">\n",
       "  <thead>\n",
       "    <tr style=\"text-align: right;\">\n",
       "      <th></th>\n",
       "      <th>county</th>\n",
       "      <th>Population Density</th>\n",
       "      <th>Median Age</th>\n",
       "      <th>Vacant Housing Units</th>\n",
       "      <th>Median Household Income</th>\n",
       "      <th>Population Growth</th>\n",
       "    </tr>\n",
       "  </thead>\n",
       "  <tbody>\n",
       "    <tr>\n",
       "      <th>0</th>\n",
       "      <td>San Francisco County,CA</td>\n",
       "      <td>18827.29</td>\n",
       "      <td>38.3</td>\n",
       "      <td>0.06</td>\n",
       "      <td>120229.0</td>\n",
       "      <td>0.003</td>\n",
       "    </tr>\n",
       "    <tr>\n",
       "      <th>1</th>\n",
       "      <td>San Mateo County,CA</td>\n",
       "      <td>1669.67</td>\n",
       "      <td>39.9</td>\n",
       "      <td>0.01</td>\n",
       "      <td>132759.0</td>\n",
       "      <td>-0.008</td>\n",
       "    </tr>\n",
       "    <tr>\n",
       "      <th>2</th>\n",
       "      <td>Santa Clara County,CA</td>\n",
       "      <td>1489.51</td>\n",
       "      <td>37.4</td>\n",
       "      <td>0.03</td>\n",
       "      <td>135085.0</td>\n",
       "      <td>-0.007</td>\n",
       "    </tr>\n",
       "    <tr>\n",
       "      <th>3</th>\n",
       "      <td>Dutchess County,NY</td>\n",
       "      <td>358.98</td>\n",
       "      <td>42.5</td>\n",
       "      <td>0.11</td>\n",
       "      <td>83218.0</td>\n",
       "      <td>0.003</td>\n",
       "    </tr>\n",
       "    <tr>\n",
       "      <th>4</th>\n",
       "      <td>New York County,NY</td>\n",
       "      <td>57255.99</td>\n",
       "      <td>37.7</td>\n",
       "      <td>0.12</td>\n",
       "      <td>90365.0</td>\n",
       "      <td>-0.001</td>\n",
       "    </tr>\n",
       "  </tbody>\n",
       "</table>\n",
       "</div>"
      ],
      "text/plain": [
       "                    county  Population Density  Median Age  \\\n",
       "0  San Francisco County,CA            18827.29        38.3   \n",
       "1      San Mateo County,CA             1669.67        39.9   \n",
       "2    Santa Clara County,CA             1489.51        37.4   \n",
       "3       Dutchess County,NY              358.98        42.5   \n",
       "4       New York County,NY            57255.99        37.7   \n",
       "\n",
       "   Vacant Housing Units  Median Household Income  Population Growth  \n",
       "0                  0.06                 120229.0              0.003  \n",
       "1                  0.01                 132759.0             -0.008  \n",
       "2                  0.03                 135085.0             -0.007  \n",
       "3                  0.11                  83218.0              0.003  \n",
       "4                  0.12                  90365.0             -0.001  "
      ]
     },
     "execution_count": 13,
     "metadata": {},
     "output_type": "execute_result"
    }
   ],
   "source": [
    "# print(bottom3_dem.shape)\n",
    "bottom3_dem.head()"
   ]
  },
  {
   "cell_type": "markdown",
   "metadata": {
    "cell_id": "00022-96ab49ac-6168-46ac-85dc-d42500ec9515",
    "deepnote_cell_type": "markdown",
    "tags": []
   },
   "source": [
    "Make a bar chart using altair to further see the diffences of each demographic factor at county level"
   ]
  },
  {
   "cell_type": "code",
   "execution_count": 14,
   "metadata": {
    "cell_id": "00025-14ce9036-d186-472d-b140-f778943e5954",
    "deepnote_cell_type": "code",
    "deepnote_to_be_reexecuted": false,
    "execution_millis": 2,
    "execution_start": 1632163664572,
    "source_hash": "dc6dc819",
    "tags": []
   },
   "outputs": [],
   "source": [
    "def plot_dem_features(df, feature, name):\n",
    "    bar = alt.Chart(df).mark_bar().encode(\n",
    "            y = alt.X(feature,\n",
    "                axis = alt.Axis(\n",
    "                title = feature)),\n",
    "            x = alt.Y('county',\n",
    "                axis = alt.Axis(\n",
    "                    title = 'Counties',\n",
    "                    labels = False,\n",
    "                    ticks= False),\n",
    "                sort = alt.EncodingSortField(field=feature, order = 'descending')),\n",
    "            color = alt.Color('county',\n",
    "                sort= [feature],\n",
    "                legend=alt.Legend(\n",
    "                    title = ''))\n",
    "        ).properties(\n",
    "            height=300,\n",
    "            width=450,\n",
    "            title = {\n",
    "                'text' :[feature + ' of ' + name],\n",
    "            },\n",
    "        ).configure_title(\n",
    "            fontSize=14,\n",
    "            anchor='start',\n",
    "            subtitlePadding = 2,\n",
    "            dy=-10\n",
    "        )\n",
    "    return bar\n",
    "\n",
    "# features = bottom3_dem.columns.values[1:]\n",
    "input_df = [bottom3_dem, nominated_dem]\n",
    "features = ['Population Density', 'Median Age', 'Vacant Housing Units','Median Household Income', 'Population Growth']\n",
    "name = ['Lower-ranked Counties', 'Nominated Counties']\n"
   ]
  },
  {
   "cell_type": "code",
   "execution_count": 15,
   "metadata": {
    "cell_id": "00026-9d9d2f2d-9751-4b10-a9ac-d62f4ea9c22a",
    "deepnote_cell_type": "code",
    "deepnote_to_be_reexecuted": false,
    "execution_millis": 29,
    "execution_start": 1632163664577,
    "source_hash": "dc607546",
    "tags": []
   },
   "outputs": [
    {
     "data": {
      "text/html": [
       "\n",
       "<div id=\"altair-viz-856634b1b7ff43a491f069a7fcae989f\"></div>\n",
       "<script type=\"text/javascript\">\n",
       "  (function(spec, embedOpt){\n",
       "    let outputDiv = document.currentScript.previousElementSibling;\n",
       "    if (outputDiv.id !== \"altair-viz-856634b1b7ff43a491f069a7fcae989f\") {\n",
       "      outputDiv = document.getElementById(\"altair-viz-856634b1b7ff43a491f069a7fcae989f\");\n",
       "    }\n",
       "    const paths = {\n",
       "      \"vega\": \"https://cdn.jsdelivr.net/npm//vega@5?noext\",\n",
       "      \"vega-lib\": \"https://cdn.jsdelivr.net/npm//vega-lib?noext\",\n",
       "      \"vega-lite\": \"https://cdn.jsdelivr.net/npm//vega-lite@4.8.1?noext\",\n",
       "      \"vega-embed\": \"https://cdn.jsdelivr.net/npm//vega-embed@6?noext\",\n",
       "    };\n",
       "\n",
       "    function loadScript(lib) {\n",
       "      return new Promise(function(resolve, reject) {\n",
       "        var s = document.createElement('script');\n",
       "        s.src = paths[lib];\n",
       "        s.async = true;\n",
       "        s.onload = () => resolve(paths[lib]);\n",
       "        s.onerror = () => reject(`Error loading script: ${paths[lib]}`);\n",
       "        document.getElementsByTagName(\"head\")[0].appendChild(s);\n",
       "      });\n",
       "    }\n",
       "\n",
       "    function showError(err) {\n",
       "      outputDiv.innerHTML = `<div class=\"error\" style=\"color:red;\">${err}</div>`;\n",
       "      throw err;\n",
       "    }\n",
       "\n",
       "    function displayChart(vegaEmbed) {\n",
       "      vegaEmbed(outputDiv, spec, embedOpt)\n",
       "        .catch(err => showError(`Javascript Error: ${err.message}<br>This usually means there's a typo in your chart specification. See the javascript console for the full traceback.`));\n",
       "    }\n",
       "\n",
       "    if(typeof define === \"function\" && define.amd) {\n",
       "      requirejs.config({paths});\n",
       "      require([\"vega-embed\"], displayChart, err => showError(`Error loading script: ${err.message}`));\n",
       "    } else if (typeof vegaEmbed === \"function\") {\n",
       "      displayChart(vegaEmbed);\n",
       "    } else {\n",
       "      loadScript(\"vega\")\n",
       "        .then(() => loadScript(\"vega-lite\"))\n",
       "        .then(() => loadScript(\"vega-embed\"))\n",
       "        .catch(showError)\n",
       "        .then(() => displayChart(vegaEmbed));\n",
       "    }\n",
       "  })({\"config\": {\"view\": {\"continuousWidth\": 400, \"continuousHeight\": 300}, \"title\": {\"anchor\": \"start\", \"dy\": -10, \"fontSize\": 14, \"subtitlePadding\": 2}}, \"data\": {\"name\": \"data-b9a3b62924cf6fa78ea7ea9801889ddd\"}, \"mark\": \"bar\", \"encoding\": {\"color\": {\"type\": \"nominal\", \"field\": \"county\", \"legend\": {\"title\": \"\"}, \"sort\": [\"Population Growth\"]}, \"x\": {\"type\": \"nominal\", \"axis\": {\"labels\": false, \"ticks\": false, \"title\": \"Counties\"}, \"field\": \"county\", \"sort\": {\"field\": \"Population Growth\", \"order\": \"descending\"}}, \"y\": {\"type\": \"quantitative\", \"axis\": {\"title\": \"Population Growth\"}, \"field\": \"Population Growth\"}}, \"height\": 300, \"title\": {\"text\": [\"Population Growth of Lower-ranked Counties\"]}, \"width\": 450, \"$schema\": \"https://vega.github.io/schema/vega-lite/v4.8.1.json\", \"datasets\": {\"data-b9a3b62924cf6fa78ea7ea9801889ddd\": [{\"county\": \"San Francisco County,CA\", \"Population Density\": 18827.29, \"Median Age\": 38.3, \"Vacant Housing Units\": 0.06, \"Median Household Income\": 120229.0, \"Population Growth\": 0.003}, {\"county\": \"San Mateo County,CA\", \"Population Density\": 1669.67, \"Median Age\": 39.9, \"Vacant Housing Units\": 0.01, \"Median Household Income\": 132759.0, \"Population Growth\": -0.008}, {\"county\": \"Santa Clara County,CA\", \"Population Density\": 1489.51, \"Median Age\": 37.4, \"Vacant Housing Units\": 0.03, \"Median Household Income\": 135085.0, \"Population Growth\": -0.007}, {\"county\": \"Dutchess County,NY\", \"Population Density\": 358.98, \"Median Age\": 42.5, \"Vacant Housing Units\": 0.11, \"Median Household Income\": 83218.0, \"Population Growth\": 0.003}, {\"county\": \"New York County,NY\", \"Population Density\": 57255.99, \"Median Age\": 37.7, \"Vacant Housing Units\": 0.12, \"Median Household Income\": 90365.0, \"Population Growth\": -0.001}, {\"county\": \"Westchester County,NY\", \"Population Density\": 2038.92, \"Median Age\": 41.3, \"Vacant Housing Units\": 0.04, \"Median Household Income\": 99121.0, \"Population Growth\": -0.002}, {\"county\": \"Collin County,TX\", \"Population Density\": 1220.02, \"Median Age\": 37.2, \"Vacant Housing Units\": 0.04, \"Median Household Income\": 105504.0, \"Population Growth\": 0.091}, {\"county\": \"Hays County,TX\", \"Population Density\": 355.51, \"Median Age\": 32.7, \"Vacant Housing Units\": 0.04, \"Median Household Income\": 75343.0, \"Population Growth\": 0.101}, {\"county\": \"Travis County,TX\", \"Population Density\": 1297.9, \"Median Age\": 34.8, \"Vacant Housing Units\": 0.09, \"Median Household Income\": 79642.0, \"Population Growth\": 0.066}]}}, {\"mode\": \"vega-lite\"});\n",
       "</script>"
      ],
      "text/plain": [
       "alt.Chart(...)"
      ]
     },
     "execution_count": 15,
     "metadata": {},
     "output_type": "execute_result"
    }
   ],
   "source": [
    "# you can change each input to see each demographic factor in different county categories\n",
    "\n",
    "# here as an example\n",
    "# plot the Population Growth feature in the bottom3_dem df\n",
    "# and name the title of chart as Lower-ranked Counties\n",
    "plot_dem_features(input_df[0], features[-1], name[0])\n",
    "\n",
    "# plot the Population Growth feature in the nominated_dem df\n",
    "# plot_dem_features(input_df[1], features[-1], name[0])"
   ]
  },
  {
   "cell_type": "markdown",
   "metadata": {
    "cell_id": "00025-ea84949f-cf06-4354-bcec-3899c64ab61b",
    "deepnote_cell_type": "markdown",
    "tags": []
   },
   "source": [
    "#### Findings about population growth rate:\n",
    "\n",
    "Diving into each demographic factor at county level, we found the main contribution to the average population growth rate in the bottom3 (lower-ranked) counties came from the counties in Texas: Hays county (10.1%), Collin county (9.1%), and Travis county (6.6%). The contributions from the counties in California and New York states are close to zero (0.3%) in two counties, and all others are negative."
   ]
  },
  {
   "cell_type": "markdown",
   "metadata": {
    "cell_id": "00007-9304c77f-75e2-4742-9a29-c541239b1756",
    "deepnote_cell_type": "markdown",
    "tags": []
   },
   "source": [
    "### Make an aggregated demographic dataframe for comparing the nominated, top3, and bottom3 counties"
   ]
  },
  {
   "cell_type": "code",
   "execution_count": 16,
   "metadata": {
    "cell_id": "00015-a52d3855-87ea-433e-8b8f-62a8002a68a5",
    "deepnote_cell_type": "code",
    "deepnote_to_be_reexecuted": false,
    "execution_millis": 4,
    "execution_start": 1632163664618,
    "source_hash": "ff7b3cb3",
    "tags": []
   },
   "outputs": [],
   "source": [
    "# get the ggregated mean value\n",
    "def agg_demo_diff(df):\n",
    "    mean_df = np.round(df.mean(), decimals = 3)\n",
    "    demo_df = pd.DataFrame(data = mean_df, columns = ['values'])\n",
    "    demo_df.reset_index(inplace=True)\n",
    "    demo_df.rename(columns = {'index': 'county'}, inplace=True)\n",
    "    \n",
    "    return demo_df\n",
    "\n",
    "agg_bottom3_demo = agg_demo_diff(bottom3_dem)\n",
    "agg_nominated_demo = agg_demo_diff(nominated_dem)\n",
    "\n",
    "# merge nominated and bottom3 together\n",
    "demo_df = agg_nominated_demo.merge(agg_bottom3_demo, on='county')\n",
    "demo_df.columns = ['demographic variables', 'nominated','bottom3']\n",
    "\n",
    "# calculate the different of nominated and bottom3 \n",
    "# in ratio to overcome the different value scale\n",
    "# to calcuate how many time the nominated counties are higher/lower than  bottom3 counties\n",
    "demo_df['difference'] = round((demo_df['nominated'] / demo_df['bottom3']-1), 3) "
   ]
  },
  {
   "cell_type": "code",
   "execution_count": 17,
   "metadata": {
    "cell_id": "00016-efbffdcc-bd65-4658-95ab-425b8c6efa97",
    "deepnote_cell_type": "code",
    "deepnote_to_be_reexecuted": false,
    "execution_millis": 16,
    "execution_start": 1632163664650,
    "source_hash": "530ae370",
    "tags": []
   },
   "outputs": [
    {
     "data": {
      "text/html": [
       "<div>\n",
       "<style scoped>\n",
       "    .dataframe tbody tr th:only-of-type {\n",
       "        vertical-align: middle;\n",
       "    }\n",
       "\n",
       "    .dataframe tbody tr th {\n",
       "        vertical-align: top;\n",
       "    }\n",
       "\n",
       "    .dataframe thead th {\n",
       "        text-align: right;\n",
       "    }\n",
       "</style>\n",
       "<table border=\"1\" class=\"dataframe\">\n",
       "  <thead>\n",
       "    <tr style=\"text-align: right;\">\n",
       "      <th></th>\n",
       "      <th>demographic variables</th>\n",
       "      <th>nominated</th>\n",
       "      <th>bottom3</th>\n",
       "      <th>difference</th>\n",
       "    </tr>\n",
       "  </thead>\n",
       "  <tbody>\n",
       "    <tr>\n",
       "      <th>0</th>\n",
       "      <td>Population Density</td>\n",
       "      <td>7301.440</td>\n",
       "      <td>9390.421</td>\n",
       "      <td>-0.222</td>\n",
       "    </tr>\n",
       "    <tr>\n",
       "      <th>1</th>\n",
       "      <td>Median Age</td>\n",
       "      <td>34.640</td>\n",
       "      <td>37.978</td>\n",
       "      <td>-0.088</td>\n",
       "    </tr>\n",
       "    <tr>\n",
       "      <th>2</th>\n",
       "      <td>Vacant Housing Units</td>\n",
       "      <td>0.064</td>\n",
       "      <td>0.060</td>\n",
       "      <td>0.067</td>\n",
       "    </tr>\n",
       "    <tr>\n",
       "      <th>3</th>\n",
       "      <td>Median Household Income</td>\n",
       "      <td>58302.600</td>\n",
       "      <td>102362.889</td>\n",
       "      <td>-0.430</td>\n",
       "    </tr>\n",
       "    <tr>\n",
       "      <th>4</th>\n",
       "      <td>Population Growth</td>\n",
       "      <td>0.053</td>\n",
       "      <td>0.027</td>\n",
       "      <td>0.963</td>\n",
       "    </tr>\n",
       "  </tbody>\n",
       "</table>\n",
       "</div>"
      ],
      "text/plain": [
       "     demographic variables  nominated     bottom3  difference\n",
       "0       Population Density   7301.440    9390.421      -0.222\n",
       "1               Median Age     34.640      37.978      -0.088\n",
       "2     Vacant Housing Units      0.064       0.060       0.067\n",
       "3  Median Household Income  58302.600  102362.889      -0.430\n",
       "4        Population Growth      0.053       0.027       0.963"
      ]
     },
     "execution_count": 17,
     "metadata": {},
     "output_type": "execute_result"
    }
   ],
   "source": [
    "demo_df"
   ]
  },
  {
   "cell_type": "markdown",
   "metadata": {
    "cell_id": "00032-fcf20adb-8cb3-4f7d-bf7f-3f4c8b9abb1b",
    "deepnote_cell_type": "markdown",
    "tags": []
   },
   "source": [
    "Make a bar chart using Altair to see the differences between the nominated and the lower-ranked (bottom3)"
   ]
  },
  {
   "cell_type": "code",
   "execution_count": 18,
   "metadata": {
    "cell_id": "00015-1e090921-dcdc-4a68-b152-5636b5b50170",
    "deepnote_cell_type": "code",
    "deepnote_to_be_reexecuted": false,
    "execution_millis": 15,
    "execution_start": 1632163664716,
    "source_hash": "3091da44",
    "tags": []
   },
   "outputs": [
    {
     "data": {
      "text/html": [
       "\n",
       "<div id=\"altair-viz-65b7ce05f2f8498dac1421e09a96419b\"></div>\n",
       "<script type=\"text/javascript\">\n",
       "  (function(spec, embedOpt){\n",
       "    let outputDiv = document.currentScript.previousElementSibling;\n",
       "    if (outputDiv.id !== \"altair-viz-65b7ce05f2f8498dac1421e09a96419b\") {\n",
       "      outputDiv = document.getElementById(\"altair-viz-65b7ce05f2f8498dac1421e09a96419b\");\n",
       "    }\n",
       "    const paths = {\n",
       "      \"vega\": \"https://cdn.jsdelivr.net/npm//vega@5?noext\",\n",
       "      \"vega-lib\": \"https://cdn.jsdelivr.net/npm//vega-lib?noext\",\n",
       "      \"vega-lite\": \"https://cdn.jsdelivr.net/npm//vega-lite@4.8.1?noext\",\n",
       "      \"vega-embed\": \"https://cdn.jsdelivr.net/npm//vega-embed@6?noext\",\n",
       "    };\n",
       "\n",
       "    function loadScript(lib) {\n",
       "      return new Promise(function(resolve, reject) {\n",
       "        var s = document.createElement('script');\n",
       "        s.src = paths[lib];\n",
       "        s.async = true;\n",
       "        s.onload = () => resolve(paths[lib]);\n",
       "        s.onerror = () => reject(`Error loading script: ${paths[lib]}`);\n",
       "        document.getElementsByTagName(\"head\")[0].appendChild(s);\n",
       "      });\n",
       "    }\n",
       "\n",
       "    function showError(err) {\n",
       "      outputDiv.innerHTML = `<div class=\"error\" style=\"color:red;\">${err}</div>`;\n",
       "      throw err;\n",
       "    }\n",
       "\n",
       "    function displayChart(vegaEmbed) {\n",
       "      vegaEmbed(outputDiv, spec, embedOpt)\n",
       "        .catch(err => showError(`Javascript Error: ${err.message}<br>This usually means there's a typo in your chart specification. See the javascript console for the full traceback.`));\n",
       "    }\n",
       "\n",
       "    if(typeof define === \"function\" && define.amd) {\n",
       "      requirejs.config({paths});\n",
       "      require([\"vega-embed\"], displayChart, err => showError(`Error loading script: ${err.message}`));\n",
       "    } else if (typeof vegaEmbed === \"function\") {\n",
       "      displayChart(vegaEmbed);\n",
       "    } else {\n",
       "      loadScript(\"vega\")\n",
       "        .then(() => loadScript(\"vega-lite\"))\n",
       "        .then(() => loadScript(\"vega-embed\"))\n",
       "        .catch(showError)\n",
       "        .then(() => displayChart(vegaEmbed));\n",
       "    }\n",
       "  })({\"config\": {\"view\": {\"continuousWidth\": 400, \"continuousHeight\": 300}, \"title\": {\"anchor\": \"start\", \"dy\": -10, \"fontSize\": 14, \"subtitlePadding\": 2}}, \"data\": {\"name\": \"data-2f2dd6b151207072583a0bffcecc3e38\"}, \"mark\": \"bar\", \"encoding\": {\"color\": {\"type\": \"nominal\", \"field\": \"demographic variables\", \"legend\": {\"title\": \"\"}, \"sort\": [\"difference\"]}, \"x\": {\"type\": \"nominal\", \"axis\": {\"labels\": false, \"ticks\": false, \"title\": \"Demographic variables\"}, \"field\": \"demographic variables\", \"sort\": {\"field\": \"difference\", \"order\": \"descending\"}}, \"y\": {\"type\": \"quantitative\", \"axis\": {\"ticks\": false, \"title\": \"Different (%)\"}, \"field\": \"difference\"}}, \"height\": 300, \"title\": {\"text\": [\"Demographic Difference Between\", \"Nominated Counties and Lower-ranked Counties\"]}, \"width\": 450, \"$schema\": \"https://vega.github.io/schema/vega-lite/v4.8.1.json\", \"datasets\": {\"data-2f2dd6b151207072583a0bffcecc3e38\": [{\"demographic variables\": \"Population Density\", \"nominated\": 7301.44, \"bottom3\": 9390.421, \"difference\": -0.222}, {\"demographic variables\": \"Median Age\", \"nominated\": 34.64, \"bottom3\": 37.978, \"difference\": -0.088}, {\"demographic variables\": \"Vacant Housing Units\", \"nominated\": 0.064, \"bottom3\": 0.06, \"difference\": 0.067}, {\"demographic variables\": \"Median Household Income\", \"nominated\": 58302.6, \"bottom3\": 102362.889, \"difference\": -0.43}, {\"demographic variables\": \"Population Growth\", \"nominated\": 0.053, \"bottom3\": 0.027, \"difference\": 0.963}]}}, {\"mode\": \"vega-lite\"});\n",
       "</script>"
      ],
      "text/plain": [
       "alt.Chart(...)"
      ]
     },
     "execution_count": 18,
     "metadata": {},
     "output_type": "execute_result"
    }
   ],
   "source": [
    "def plot_dem_diff():\n",
    "    bars = alt.Chart(demo_df).mark_bar().encode(\n",
    "        x=alt.X('demographic variables:N',\n",
    "            axis = alt.Axis(\n",
    "                title = 'Demographic variables',\n",
    "                labels = False,\n",
    "                ticks = False),\n",
    "            sort = alt.EncodingSortField(field='difference', order = 'descending'),\n",
    "        ),\n",
    "        y = alt.Y('difference:Q',\n",
    "            axis= alt.Axis(\n",
    "                title = 'Different (%)',\n",
    "                ticks=False),\n",
    "        ),\n",
    "        color = alt.Color('demographic variables:N',\n",
    "            sort = ['difference'],\n",
    "            legend=alt.Legend(\n",
    "                title = ''),\n",
    "        )\n",
    "    ).properties(\n",
    "        height=300,\n",
    "        width=450,\n",
    "        title = {\n",
    "            'text' :[\"Demographic Difference Between\",\n",
    "            \"Nominated Counties and Lower-ranked Counties\"]},\n",
    "    ).configure_title(\n",
    "        fontSize=14,\n",
    "        anchor='start',\n",
    "        subtitlePadding = 2,\n",
    "        dy=-10\n",
    "    )\n",
    "\n",
    "    return bars\n",
    "\n",
    "plot_dem_diff()"
   ]
  },
  {
   "cell_type": "markdown",
   "metadata": {
    "cell_id": "00031-aa5f0341-9ae0-4647-948e-c82448c01408",
    "deepnote_cell_type": "markdown",
    "tags": []
   },
   "source": [
    "#### Findings: \n",
    "\n",
    "In order to see if there are some demographic differences between the nominated counties and the lower-ranked counties, we made a bar chart to show the percentage differences between them.\n",
    "\n",
    "Compared with the lower-ranked counties we found that, on average, nominated counties have higher population growth rate and vacant housing units. They also had lower median age, population density, and median household income. Among these factors, the average population growth rate of the nominated counties is almost twice that of the lower-ranked counties.\n",
    "\n",
    "In general, based on the differences, **areas with higher population growth rate but lower population density, younger communities and relatively lower median household income, seem to be the attributes for more profitable counties for rental property investors.** "
   ]
  },
  {
   "cell_type": "markdown",
   "metadata": {
    "created_in_deepnote_cell": true,
    "deepnote_cell_type": "markdown",
    "tags": []
   },
   "source": [
    "<a style='text-decoration:none;line-height:16px;display:flex;color:#5B5B62;padding:10px;justify-content:end;' href='https://deepnote.com?utm_source=created-in-deepnote-cell&projectId=718fdf0e-933b-4ec5-90a8-5b2fe887b720' target=\"_blank\">\n",
    "<img alt='Created in deepnote.com' style='display:inline;max-height:16px;margin:0px;margin-right:7.5px;' src='data:image/svg+xml;base64,PD94bWwgdmVyc2lvbj0iMS4wIiBlbmNvZGluZz0iVVRGLTgiPz4KPHN2ZyB3aWR0aD0iODBweCIgaGVpZ2h0PSI4MHB4IiB2aWV3Qm94PSIwIDAgODAgODAiIHZlcnNpb249IjEuMSIgeG1sbnM9Imh0dHA6Ly93d3cudzMub3JnLzIwMDAvc3ZnIiB4bWxuczp4bGluaz0iaHR0cDovL3d3dy53My5vcmcvMTk5OS94bGluayI+CiAgICA8IS0tIEdlbmVyYXRvcjogU2tldGNoIDU0LjEgKDc2NDkwKSAtIGh0dHBzOi8vc2tldGNoYXBwLmNvbSAtLT4KICAgIDx0aXRsZT5Hcm91cCAzPC90aXRsZT4KICAgIDxkZXNjPkNyZWF0ZWQgd2l0aCBTa2V0Y2guPC9kZXNjPgogICAgPGcgaWQ9IkxhbmRpbmciIHN0cm9rZT0ibm9uZSIgc3Ryb2tlLXdpZHRoPSIxIiBmaWxsPSJub25lIiBmaWxsLXJ1bGU9ImV2ZW5vZGQiPgogICAgICAgIDxnIGlkPSJBcnRib2FyZCIgdHJhbnNmb3JtPSJ0cmFuc2xhdGUoLTEyMzUuMDAwMDAwLCAtNzkuMDAwMDAwKSI+CiAgICAgICAgICAgIDxnIGlkPSJHcm91cC0zIiB0cmFuc2Zvcm09InRyYW5zbGF0ZSgxMjM1LjAwMDAwMCwgNzkuMDAwMDAwKSI+CiAgICAgICAgICAgICAgICA8cG9seWdvbiBpZD0iUGF0aC0yMCIgZmlsbD0iIzAyNjVCNCIgcG9pbnRzPSIyLjM3NjIzNzYyIDgwIDM4LjA0NzY2NjcgODAgNTcuODIxNzgyMiA3My44MDU3NTkyIDU3LjgyMTc4MjIgMzIuNzU5MjczOSAzOS4xNDAyMjc4IDMxLjY4MzE2ODMiPjwvcG9seWdvbj4KICAgICAgICAgICAgICAgIDxwYXRoIGQ9Ik0zNS4wMDc3MTgsODAgQzQyLjkwNjIwMDcsNzYuNDU0OTM1OCA0Ny41NjQ5MTY3LDcxLjU0MjI2NzEgNDguOTgzODY2LDY1LjI2MTk5MzkgQzUxLjExMjI4OTksNTUuODQxNTg0MiA0MS42NzcxNzk1LDQ5LjIxMjIyODQgMjUuNjIzOTg0Niw0OS4yMTIyMjg0IEMyNS40ODQ5Mjg5LDQ5LjEyNjg0NDggMjkuODI2MTI5Niw0My4yODM4MjQ4IDM4LjY0NzU4NjksMzEuNjgzMTY4MyBMNzIuODcxMjg3MSwzMi41NTQ0MjUgTDY1LjI4MDk3Myw2Ny42NzYzNDIxIEw1MS4xMTIyODk5LDc3LjM3NjE0NCBMMzUuMDA3NzE4LDgwIFoiIGlkPSJQYXRoLTIyIiBmaWxsPSIjMDAyODY4Ij48L3BhdGg+CiAgICAgICAgICAgICAgICA8cGF0aCBkPSJNMCwzNy43MzA0NDA1IEwyNy4xMTQ1MzcsMC4yNTcxMTE0MzYgQzYyLjM3MTUxMjMsLTEuOTkwNzE3MDEgODAsMTAuNTAwMzkyNyA4MCwzNy43MzA0NDA1IEM4MCw2NC45NjA0ODgyIDY0Ljc3NjUwMzgsNzkuMDUwMzQxNCAzNC4zMjk1MTEzLDgwIEM0Ny4wNTUzNDg5LDc3LjU2NzA4MDggNTMuNDE4MjY3Nyw3MC4zMTM2MTAzIDUzLjQxODI2NzcsNTguMjM5NTg4NSBDNTMuNDE4MjY3Nyw0MC4xMjg1NTU3IDM2LjMwMzk1NDQsMzcuNzMwNDQwNSAyNS4yMjc0MTcsMzcuNzMwNDQwNSBDMTcuODQzMDU4NiwzNy43MzA0NDA1IDkuNDMzOTE5NjYsMzcuNzMwNDQwNSAwLDM3LjczMDQ0MDUgWiIgaWQ9IlBhdGgtMTkiIGZpbGw9IiMzNzkzRUYiPjwvcGF0aD4KICAgICAgICAgICAgPC9nPgogICAgICAgIDwvZz4KICAgIDwvZz4KPC9zdmc+' > </img>\n",
    "Created in <span style='font-weight:600;margin-left:4px;'>Deepnote</span></a>"
   ]
  }
 ],
 "metadata": {
  "deepnote": {
   "is_reactive": false
  },
  "deepnote_execution_queue": [],
  "deepnote_notebook_id": "23c86b76-e61b-4cf6-aab7-167834688cf2",
  "kernelspec": {
   "display_name": "Python 3",
   "language": "python",
   "name": "python3"
  },
  "language_info": {
   "codemirror_mode": {
    "name": "ipython",
    "version": 3
   },
   "file_extension": ".py",
   "mimetype": "text/x-python",
   "name": "python",
   "nbconvert_exporter": "python",
   "pygments_lexer": "ipython3",
   "version": "3.8.3"
  }
 },
 "nbformat": 4,
 "nbformat_minor": 2
}
